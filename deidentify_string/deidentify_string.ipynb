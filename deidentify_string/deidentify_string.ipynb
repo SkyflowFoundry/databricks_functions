{
 "cells": [
  {
   "cell_type": "markdown",
   "metadata": {
    "application/vnd.databricks.v1+cell": {
     "cellMetadata": {},
     "inputWidgets": {},
     "nuid": "54394dd5-1f6f-49c6-9c80-4c0f9f279e2b",
     "showTitle": false,
     "tableResultSettingsMap": {},
     "title": ""
    }
   },
   "source": [
    "# Skyflow Deidentify String UDF\n",
    "\n",
    "This notebook will show you how to install a function for deidentifying strings and tokenizing PII in unstructured data using a Skyflow Vault."
   ]
  },
  {
   "cell_type": "markdown",
   "metadata": {
    "application/vnd.databricks.v1+cell": {
     "cellMetadata": {},
     "inputWidgets": {},
     "nuid": "5f5dc62c-e14f-4e79-a6f7-275a449bf50d",
     "showTitle": false,
     "tableResultSettingsMap": {},
     "title": ""
    }
   },
   "source": [
    "## Configure secrets in Databricks (optional)"
   ]
  },
  {
   "cell_type": "markdown",
   "metadata": {
    "application/vnd.databricks.v1+cell": {
     "cellMetadata": {},
     "inputWidgets": {},
     "nuid": "de4c8638-b117-48ce-8c24-1d764466d9b2",
     "showTitle": false,
     "tableResultSettingsMap": {},
     "title": ""
    }
   },
   "source": [
    "To use this function as written you must configure a Secret in Databricks for storing the Skyflow API credentials. Alternately, for testing, when calling the function you can manually pass credentials as an argument.\n",
    "\n",
    "#### Install the CLI\n",
    "\n",
    "If you use Homebrew on a Mac, the below commands will complete the install.\n",
    "\n",
    "```\n",
    "brew tap databricks/tap\n",
    "brew install databricks\n",
    "```\n",
    "\n",
    "For more detailed instructions for any dev environment see the official documentation: [Databricks | Install or update the Databricks CLI](https://docs.databricks.com/aws/en/dev-tools/cli/install)\n",
    "\n",
    "##### Configure the CLI\n",
    "\n",
    "To get started and create a configuration profile on your machine, run `databricks configure`.\n",
    "\n",
    "You should be prompted for `Databricks Host` and a `Personal Access Token`. \n",
    "\n",
    "To get a Personal Access Token (PAT) for development login to the Databricks UI, open Settings, click Developer, then Access Tokens.\n",
    "\n",
    "For more information on authenticating the Databricks CLI see the official documentation: [Databricks | Authentication for the Databricks CLI](https://docs.databricks.com/aws/en/dev-tools/cli/authentication)\n",
    "\n",
    "#### Configure a secret scope in Databricks\n",
    "\n",
    "Now that you've configured and authenticated the Databricks CLI, run the following command to create a 'scope' for your secrets in Databricks: \n",
    "\n",
    "`databricks secrets create-scope <scope-name>`\n",
    "\n",
    "For the rest of this demo we'll use the scope `sky-agentic-demo`.\n",
    "\n",
    "`databricks secrets create-scope sky-agentic-demo`\n",
    "\n",
    "#### Get details from Skyflow\n",
    "\n",
    "- Create or log into your account at [skyflow.com](https://skyflow.com) and generate an API key: [docs.skyflow.com](https://docs.skyflow.com/api-authentication/)\n",
    "- Copy your API key, Vault URL, and Vault ID\n",
    "\n",
    "\n",
    "#### Store the secrets in Databricks\n",
    "\n",
    "Create your secrets using the JSON syntax:\n",
    "\n",
    "```sh\n",
    "databricks secrets put-secret --json '{\n",
    "  \"scope\": \"sky-agentic-demo\",\n",
    "  \"key\": \"sky_api_key\",\n",
    "  \"string_value\": \"--sky_api_key--\"\n",
    "}'\n",
    "```\n",
    "\n",
    "To confirm the secrets have been uploaded successfully, run `databricks secrets list-secrets sky-agentic-demo` to see a list of the keys you provided and an updated timestamp.\n",
    "\n",
    "Example:\n",
    "\n",
    "```sh\n",
    "Key            Last Updated Timestamp\n",
    "sky_api_key    1739998630197\n",
    "```\n",
    "\n",
    "Then to read a secret in a Notebook, use `dbutils.secrets`:\n",
    "\n",
    "`sky_api_key = dbutils.secrets.get(scope = \"sky-agentic-demo\", key = \"sky_api_key\")`\n",
    "\n",
    "To learn more about Secrets in Databricks, see the official documentation: [Secret Management | Databricks](https://docs.databricks.com/aws/en/security/secrets)\n"
   ]
  },
  {
   "cell_type": "markdown",
   "metadata": {
    "application/vnd.databricks.v1+cell": {
     "cellMetadata": {},
     "inputWidgets": {},
     "nuid": "dc6dfba4-d3d5-4733-998d-cd3a79f01629",
     "showTitle": false,
     "tableResultSettingsMap": {},
     "title": ""
    }
   },
   "source": [
    "## Install the function\n",
    "\n",
    "Before you install, make sure you set your `vault_id` and `vault_url`. These are hardcoded values in our function, though you can modify it to also accept parameters for these values from the user invoking the function or use Databricks environment variables.\n",
    "\n"
   ]
  },
  {
   "cell_type": "code",
   "execution_count": 0,
   "metadata": {
    "application/vnd.databricks.v1+cell": {
     "cellMetadata": {},
     "inputWidgets": {},
     "nuid": "b63e5594-f0bf-4787-98d0-19cd5df878df",
     "showTitle": false,
     "tableResultSettingsMap": {},
     "title": ""
    }
   },
   "outputs": [],
   "source": [
    "%sql\n",
    "CREATE OR REPLACE FUNCTION\n",
    "agentic.default.deidentify_string (\n",
    " input_text STRING COMMENT 'The string to be de-identified.',\n",
    " sky_api_key STRING COMMENT 'Optional: The API key for the Skyflow API.'\n",
    ")\n",
    "RETURNS STRING\n",
    "LANGUAGE PYTHON\n",
    "DETERMINISTIC\n",
    "COMMENT 'Deidentify a string using the Skyflow API. Removes any sensitive data from the string and returns a safe string with placeholders in place of sensitive data tokens.'\n",
    "AS $$\n",
    " import sys\n",
    " import json\n",
    " import requests\n",
    " from io import StringIO\n",
    " \n",
    " vault_id = \"SKYFLOW_VAULT_ID\"\n",
    " vault_url = \"https://sample.vault.skyflowapis.com\"\n",
    " sys_stdout = sys.stdout\n",
    " redirected_output = StringIO()\n",
    " sys.stdout = redirected_output\n",
    "\n",
    " if sky_api_key is None or sky_api_key == '':\n",
    "     # try to fetch the API key from env variables\n",
    "     # bearer_token = os.environ.get(\"SKY_API_KEY\")\n",
    "     bearer_token = '<YOUR_API_KEY>'\n",
    " else:\n",
    "     bearer_token = sky_api_key\n",
    "\n",
    " api_path = \"/v1/detect/deidentify/string\"\n",
    " api_url = vault_url + api_path\n",
    " headers = {\n",
    "     \"Authorization\": f\"Bearer {bearer_token}\",\n",
    "     \"Content-Type\": \"application/json\",\n",
    " }\n",
    " json_body = {\n",
    "     \"vault_id\": vault_id,\n",
    "     \"text\": input_text,\n",
    "     \"token_type\": {\n",
    "         \"default\": \"vault_token\"\n",
    "     }\n",
    " }\n",
    "\n",
    " try:\n",
    "     api_response = requests.post(api_url, headers=headers, json=json_body)\n",
    "     api_response.raise_for_status()\n",
    "     external_data = api_response.json()\n",
    "     result = external_data.get('processed_text', 'No processed_text found')\n",
    " except requests.exceptions.RequestException as e:\n",
    "     result = f\"Error calling external API: {str(e)}\"\n",
    "\n",
    " sys.stdout = sys_stdout\n",
    " return result\n",
    "$$"
   ]
  },
  {
   "cell_type": "markdown",
   "metadata": {
    "application/vnd.databricks.v1+cell": {
     "cellMetadata": {},
     "inputWidgets": {},
     "nuid": "2ed1c2c2-0786-484b-bc82-102ece27fe76",
     "showTitle": false,
     "tableResultSettingsMap": {},
     "title": ""
    }
   },
   "source": [
    "## Hello World: Test the function from Unity Catalog\n",
    "\n",
    "Now that you've installed the deidentify_string() function into your Databricks Unity Catalog, you can call it from Python with Spark."
   ]
  },
  {
   "cell_type": "code",
   "execution_count": 0,
   "metadata": {
    "application/vnd.databricks.v1+cell": {
     "cellMetadata": {
      "byteLimit": 2048000,
      "rowLimit": 10000
     },
     "inputWidgets": {},
     "nuid": "ad60f995-78d3-48bb-bb3c-b8004ee5de50",
     "showTitle": false,
     "tableResultSettingsMap": {},
     "title": ""
    }
   },
   "outputs": [],
   "source": [
    "# Retrieve an access token from Databricks Secrets.\n",
    "sky_api_key = dbutils.secrets.get(scope=\"sky-agentic-demo\", key=\"sky_api_key\")\n",
    "# Alternately, you can hardcode the API key here.\n",
    "# sky_api_key = \"yourkey\"\n",
    "\n",
    "# Provide some sample text. In practice you'll read this from a file or table.\n",
    "input_text = \"Hi my name is Joseph McCarron and I live in Austin TX\"\n",
    "\n",
    "\n",
    "# Create the input dataframe\n",
    "df = spark.createDataFrame([(input_text,)], [\"input_text\"])\n",
    "df.createOrReplaceTempView(\"input_table\")\n",
    "\n",
    "# Create the result dataframe and pass the API key and the input dataframe\n",
    "result_df = spark.sql(f\"\"\"\n",
    "SELECT agentic.default.deidentify_string(input_text, '{sky_api_key}') AS deidentified_text\n",
    "FROM input_table\n",
    "\"\"\")\n",
    "\n",
    "# Display the result\n",
    "display(result_df)"
   ]
  },
  {
   "cell_type": "markdown",
   "metadata": {
    "application/vnd.databricks.v1+cell": {
     "cellMetadata": {},
     "inputWidgets": {},
     "nuid": "9d5f9aca-9e9d-4d36-a3d4-98b964a490ad",
     "showTitle": false,
     "tableResultSettingsMap": {},
     "title": ""
    }
   },
   "source": [
    "# Test `deidentify_string()` with a table\n",
    "\n",
    "Now let's try using this on a table in your lakehouse. If you don't have a relevant table, use the cell below to create a sample `chats` table and populate it with sample data."
   ]
  },
  {
   "cell_type": "markdown",
   "metadata": {
    "application/vnd.databricks.v1+cell": {
     "cellMetadata": {},
     "inputWidgets": {},
     "nuid": "a267ef22-ea28-4584-ab07-9036f7ff9920",
     "showTitle": false,
     "tableResultSettingsMap": {},
     "title": ""
    }
   },
   "source": [
    "### Optional: create a sample table"
   ]
  },
  {
   "cell_type": "code",
   "execution_count": 0,
   "metadata": {
    "application/vnd.databricks.v1+cell": {
     "cellMetadata": {
      "byteLimit": 2048000,
      "rowLimit": 10000
     },
     "collapsed": true,
     "inputWidgets": {},
     "nuid": "bc3e98d4-029a-4970-b825-b6c3421927b7",
     "showTitle": false,
     "tableResultSettingsMap": {},
     "title": ""
    }
   },
   "outputs": [],
   "source": [
    "# Create the table\n",
    "spark.sql(\"\"\"\n",
    "CREATE OR REPLACE TABLE chats (\n",
    "    chat_id INT,\n",
    "    user_id INT,\n",
    "    timestamp TIMESTAMP,\n",
    "    user_message STRING,\n",
    "    bot_response STRING,\n",
    "    user_name STRING,\n",
    "    user_email STRING\n",
    ")\n",
    "\"\"\")\n",
    "\n",
    "# Insert sample data\n",
    "spark.sql(\"\"\"\n",
    "INSERT INTO chats VALUES\n",
    "    (1, 101, '2025-03-07 10:00:00', 'Hello, I need help with my account. My email is john.doe@example.com.', 'Sure, I can help you with that.', 'John Doe', 'john.doe@example.com'),\n",
    "    (2, 102, '2025-03-07 10:05:00', 'What is the weather today? My address is 123 Main St.', 'The weather today is sunny.', 'Jane Smith', 'jane.smith@example.com'),\n",
    "    (3, 103, '2025-03-07 10:10:00', 'Can you tell me a joke? My phone number is 555-1234.', 'Why did the scarecrow win an award? Because he was outstanding in his field!', 'Alice Johnson', 'alice.johnson@example.com'),\n",
    "    (4, 104, '2025-03-07 10:15:00', 'I forgot my password. My SSN is 123-45-6789.', 'Please click on the \"Forgot Password\" link to reset it.', 'Bob Brown', 'bob.brown@example.com'),\n",
    "    (5, 105, '2025-03-07 10:20:00', 'What are your working hours? My email is charlie.davis@example.com.', 'Our working hours are from 9 AM to 5 PM.', 'Charlie Davis', 'charlie.davis@example.com'),\n",
    "    (6, 106, '2025-03-07 10:25:00', 'Can you help me with my order? My address is 456 Elm St.', 'Sure, I can help you with your order.', 'David Evans', 'david.evans@example.com'),\n",
    "    (7, 107, '2025-03-07 10:30:00', 'What is your return policy? My phone number is 555-5678.', 'Our return policy is 30 days.', 'Eve Foster', 'eve.foster@example.com'),\n",
    "    (8, 108, '2025-03-07 10:35:00', 'Do you offer discounts? My SSN is 987-65-4321.', 'Yes, we offer discounts on bulk purchases.', 'Frank Green', 'frank.green@example.com'),\n",
    "    (9, 109, '2025-03-07 10:40:00', 'How can I contact support? My email is grace.harris@example.com.', 'You can contact support via email or phone.', 'Grace Harris', 'grace.harris@example.com'),\n",
    "    (10, 110, '2025-03-07 10:45:00', 'What is your shipping policy? My address is 789 Oak St.', 'We offer free shipping on orders over $50.', 'Hank Irving', 'hank.irving@example.com'),\n",
    "    (11, 111, '2025-03-07 10:50:00', 'Can you recommend a product? My phone number is 555-9876.', 'Sure, I recommend our latest product.', 'Ivy Johnson', 'ivy.johnson@example.com'),\n",
    "    (12, 112, '2025-03-07 10:55:00', 'How do I update my profile? My SSN is 321-54-9876.', 'You can update your profile in the settings.', 'Jack King', 'jack.king@example.com'),\n",
    "    (13, 113, '2025-03-07 11:00:00', 'What payment methods do you accept? My email is karen.lee@example.com.', 'We accept credit cards and PayPal.', 'Karen Lee', 'karen.lee@example.com'),\n",
    "    (14, 114, '2025-03-07 11:05:00', 'Can I track my order? My address is 321 Pine St.', 'Yes, you can track your order in the orders section.', 'Leo Martin', 'leo.martin@example.com'),\n",
    "    (15, 115, '2025-03-07 11:10:00', 'Do you have a mobile app? My phone number is 555-4321.', 'Yes, we have a mobile app available on iOS and Android.', 'Mia Nelson', 'mia.nelson@example.com')\n",
    "\"\"\")\n",
    "\n",
    "# Display the table\n",
    "display(spark.sql(\"SELECT * FROM chats\"))"
   ]
  },
  {
   "cell_type": "markdown",
   "metadata": {
    "application/vnd.databricks.v1+cell": {
     "cellMetadata": {},
     "inputWidgets": {},
     "nuid": "520100d6-48da-483c-8a0e-ebe967f367b2",
     "showTitle": false,
     "tableResultSettingsMap": {},
     "title": ""
    }
   },
   "source": [
    "## Deidentify the user_message column from the table\n",
    "\n",
    "Calls the deidentify_string() function from Unity Catalog as part of a query."
   ]
  },
  {
   "cell_type": "code",
   "execution_count": 0,
   "metadata": {
    "application/vnd.databricks.v1+cell": {
     "cellMetadata": {},
     "inputWidgets": {},
     "nuid": "6dbc3302-3f5c-42d9-9b45-e8d538fa7f98",
     "showTitle": false,
     "tableResultSettingsMap": {},
     "title": ""
    }
   },
   "outputs": [],
   "source": [
    "# Retrieve an access token from Databricks Secrets. Alternately hardcode your API key here for test use.\n",
    "sky_api_key = dbutils.secrets.get(scope=\"sky-agentic-demo\", key=\"sky_api_key\")\n",
    "\n",
    "# Note: if you're using your own table, modify the query below to use your table name and column names.\n",
    "result_df = spark.sql(f\"\"\"\n",
    "SELECT chat_id, user_id, timestamp, agentic.default.deidentify_string(user_message, '{sky_api_key}') AS deidentified_user_message, bot_response, user_name, user_email\n",
    "FROM chats\n",
    "\"\"\")\n",
    "\n",
    "# Display the result\n",
    "display(result_df)"
   ]
  },
  {
   "cell_type": "markdown",
   "metadata": {
    "application/vnd.databricks.v1+cell": {
     "cellMetadata": {},
     "inputWidgets": {},
     "nuid": "2d0c7599-d442-4502-9294-0ea89f44bc42",
     "showTitle": false,
     "tableResultSettingsMap": {},
     "title": ""
    }
   },
   "source": [
    "## Next steps\n",
    "\n",
    "Now that you've created a basic string deidentification function you can try customizing it with some of the parameters available from the Skyflow Detect API. Or, if you're working with raw files, try creating a similar function for the Deidentify File APIs."
   ]
  }
 ],
 "metadata": {
  "application/vnd.databricks.v1+notebook": {
   "computePreferences": null,
   "dashboards": [],
   "environmentMetadata": {
    "base_environment": "",
    "environment_version": "2"
   },
   "language": "python",
   "notebookMetadata": {
    "pythonIndentUnit": 4
   },
   "notebookName": "Skyflow Deidentify String UDF",
   "widgets": {}
  },
  "language_info": {
   "name": "python"
  }
 },
 "nbformat": 4,
 "nbformat_minor": 0
}
